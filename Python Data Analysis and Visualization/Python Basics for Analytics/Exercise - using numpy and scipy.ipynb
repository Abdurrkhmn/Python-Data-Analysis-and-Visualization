{
 "cells": [
  {
   "cell_type": "code",
   "execution_count": 11,
   "id": "b6032911",
   "metadata": {},
   "outputs": [],
   "source": [
    "#Numpy "
   ]
  },
  {
   "cell_type": "code",
   "execution_count": 12,
   "id": "7a15d0fb",
   "metadata": {},
   "outputs": [],
   "source": [
    "import numpy as np\n",
    "\n",
    "def perform_calculations(array):\n",
    "  return 0, 0, 0, 0 # Replace with max, std, sum, and dot product"
   ]
  },
  {
   "cell_type": "code",
   "execution_count": 14,
   "id": "2d937cb7",
   "metadata": {},
   "outputs": [],
   "source": [
    "#answer\n",
    "import numpy as np\n",
    "\n",
    "def perform_calculations(array):\n",
    "    return np.max(array), np.std(array), np.sum(array), np.dot(array, array)"
   ]
  },
  {
   "cell_type": "code",
   "execution_count": 15,
   "id": "6afa8acc",
   "metadata": {},
   "outputs": [],
   "source": [
    "#Scipy\n",
    "from scipy import stats\n",
    "import numpy as np\n",
    "\n",
    "def correlation(array1, array2):\n",
    "  return (0,0) # Replace with a tuple containing (correlation, p-value)\n"
   ]
  },
  {
   "cell_type": "code",
   "execution_count": 16,
   "id": "784d787a",
   "metadata": {},
   "outputs": [],
   "source": [
    "#answer\n",
    "from scipy import stats\n",
    "import numpy as np\n",
    "def correlation(array1, array2):\n",
    "  return stats.pearsonr(array1, array2)"
   ]
  },
  {
   "cell_type": "code",
   "execution_count": null,
   "id": "1d938ad3",
   "metadata": {},
   "outputs": [],
   "source": []
  }
 ],
 "metadata": {
  "kernelspec": {
   "display_name": "Python 3 (ipykernel)",
   "language": "python",
   "name": "python3"
  },
  "language_info": {
   "codemirror_mode": {
    "name": "ipython",
    "version": 3
   },
   "file_extension": ".py",
   "mimetype": "text/x-python",
   "name": "python",
   "nbconvert_exporter": "python",
   "pygments_lexer": "ipython3",
   "version": "3.9.12"
  }
 },
 "nbformat": 4,
 "nbformat_minor": 5
}

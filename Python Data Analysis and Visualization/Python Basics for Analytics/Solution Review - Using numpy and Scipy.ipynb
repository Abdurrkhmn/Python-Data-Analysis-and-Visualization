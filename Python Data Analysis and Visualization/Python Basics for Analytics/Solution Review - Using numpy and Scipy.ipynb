{
 "cells": [
  {
   "cell_type": "code",
   "execution_count": 1,
   "id": "7239935f",
   "metadata": {},
   "outputs": [
    {
     "name": "stdout",
     "output_type": "stream",
     "text": [
      "(0.942833744379443, 0.31789128578925335, 3.244156343360431, 2.6101844239368686)\n"
     ]
    }
   ],
   "source": [
    "#Numpy\n",
    "import numpy as np  # importing numpy module\n",
    "\n",
    "def perform_calculations(array): \n",
    "\n",
    "    # returning max, std, sum, and dot product\n",
    "    return np.max(array), np.std(array), np.sum(array), np.dot(array, array)\n",
    "\n",
    "# calling the function and printing result\n",
    "print(perform_calculations(np.random.rand(5))) "
   ]
  },
  {
   "cell_type": "code",
   "execution_count": 2,
   "id": "daf6e5ac",
   "metadata": {},
   "outputs": [
    {
     "name": "stdout",
     "output_type": "stream",
     "text": [
      "(0.12847903474795896, 0.83686657794844)\n"
     ]
    }
   ],
   "source": [
    "#Scipy\n",
    "from scipy import stats  #importing scipy module\n",
    "import numpy as np       #importing numpy module\n",
    "\n",
    "def correlation(array1, array2):\n",
    "\n",
    "  # returning correlation and p-value as a tuple\n",
    "  return stats.pearsonr(array1, array2)\n",
    "\n",
    "# calling the function and printing result\n",
    "print(correlation(np.random.rand(5),np.random.rand(5))) "
   ]
  },
  {
   "cell_type": "code",
   "execution_count": null,
   "id": "6f211d19",
   "metadata": {},
   "outputs": [],
   "source": []
  }
 ],
 "metadata": {
  "kernelspec": {
   "display_name": "Python 3 (ipykernel)",
   "language": "python",
   "name": "python3"
  },
  "language_info": {
   "codemirror_mode": {
    "name": "ipython",
    "version": 3
   },
   "file_extension": ".py",
   "mimetype": "text/x-python",
   "name": "python",
   "nbconvert_exporter": "python",
   "pygments_lexer": "ipython3",
   "version": "3.9.12"
  }
 },
 "nbformat": 4,
 "nbformat_minor": 5
}

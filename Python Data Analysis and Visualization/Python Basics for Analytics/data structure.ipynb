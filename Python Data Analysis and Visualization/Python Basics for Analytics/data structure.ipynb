{
 "cells": [
  {
   "cell_type": "code",
   "execution_count": 1,
   "id": "e663d34d",
   "metadata": {},
   "outputs": [],
   "source": [
    "#1, Lists in Python\n",
    "p1 = [1,2,3,4,5,6,7,8,9,10]\n",
    "p2 = p1[0:5]"
   ]
  },
  {
   "cell_type": "code",
   "execution_count": 2,
   "id": "6e72d586",
   "metadata": {},
   "outputs": [],
   "source": [
    "#The list p2 will be [1,2,3,4,5], Because we’ll start from 0th"
   ]
  },
  {
   "cell_type": "code",
   "execution_count": 3,
   "id": "6660fc1b",
   "metadata": {},
   "outputs": [
    {
     "name": "stdout",
     "output_type": "stream",
     "text": [
      "---0---\n",
      "[1, 5, 3, 6, 4]\n",
      "---1---\n",
      "48\n",
      "---2---\n",
      "12\n",
      "---3---\n",
      "12\n",
      "---4---\n",
      "[10, 12]\n",
      "---5---\n",
      "[3, 6, 4]\n",
      "---6---\n",
      "False\n",
      "True\n",
      "---7---\n",
      "[1, 5, 3, 6, 4, 7, 10, 12, 44]\n",
      "---8---\n",
      "[1, 5, 3, 6, 4, 7, 10, 12, 44, 100, 200]\n",
      "---9---\n",
      "[1, 5, 3, 6, 100, 7, 10, 12, 44, 100, 200]\n",
      "---10---\n",
      "[1, 5, 3, 6, 100, 1000, 7, 10, 12, 44, 100, 200]\n"
     ]
    }
   ],
   "source": [
    "# This creates the list\n",
    "depths = [1, 5, 3, 6, 4, 7, 10, 12]\n",
    "\n",
    "# This outputs the first 5 elements. No number before the : implies 0\n",
    "first_5_depths = depths[:5]\n",
    "\n",
    "print(\"---0---\")\n",
    "print(first_5_depths)\n",
    "\n",
    "# You can easily sum\n",
    "print(\"---1---\")\n",
    "print(sum(depths))\n",
    "\n",
    "# And take the max\n",
    "print(\"---2---\")\n",
    "print(max(depths))\n",
    "\n",
    "# Slicing with a negative starts from the end, so this returns the last element\n",
    "print(\"---3---\")\n",
    "print(depths[-1])\n",
    "\n",
    "# This returns the end of the list starting from the second to the end\n",
    "# Nothing after the : implies the end of the list\n",
    "print(\"---4---\")\n",
    "print(depths[-2:])\n",
    "\n",
    "# This returns the second, third, and forth elements\n",
    "# Remember counting starts at zero!\n",
    "print(\"---5---\")\n",
    "print(depths[2:5])\n",
    "\n",
    "# These commands check if a value is contained in the list\n",
    "print(\"---6---\")\n",
    "print(22 in depths)\n",
    "print(1 in depths)\n",
    "\n",
    "# This is how you add another value to the end of your list\n",
    "depths.append(44)\n",
    "print(\"---7---\")\n",
    "print(depths)\n",
    "\n",
    "# You can extend a list with another list\n",
    "depths.extend([100, 200])\n",
    "print(\"---8---\")\n",
    "print(depths)\n",
    "\n",
    "# You can also modify a value\n",
    "# This replaces the 4th value with 100\n",
    "depths[4] = 100\n",
    "print(\"---9---\")\n",
    "print(depths)\n",
    "\n",
    "# Or you can do insert to accomplish the same thing\n",
    "depths.insert(5, 1000)\n",
    "print(\"---10---\")\n",
    "print(depths)"
   ]
  },
  {
   "cell_type": "code",
   "execution_count": 4,
   "id": "beeba55c",
   "metadata": {},
   "outputs": [
    {
     "name": "stdout",
     "output_type": "stream",
     "text": [
      "---0---\n",
      "22\n",
      "---1---\n",
      "True\n",
      "---2---\n",
      "False\n",
      "---3---\n",
      "22\n",
      "---4---\n",
      "1\n",
      "---5---\n",
      "dict_keys(['age', 'birth_year', 'name', 'siblings'])\n",
      "---6---\n",
      "dict_values([22, 1999, 'jack', ['jill', 'jen']])\n",
      "---7---\n",
      "dict_items([('age', 22), ('birth_year', 1999), ('name', 'jack'), ('siblings', ['jill', 'jen'])])\n"
     ]
    }
   ],
   "source": [
    "#2, Dictionaries in Python \n",
    "# Initialize the dictionary.\n",
    "# Keys are first then a : then the value\n",
    "my_dict = {\"age\": 22, \"birth_year\": 1999, \"name\": \"jack\", \"siblings\": [\"jill\", \"jen\"]}\n",
    "\n",
    "# Get the value for the key age\n",
    "print(\"---0---\")\n",
    "print(my_dict['age'])\n",
    "\n",
    "# Check is age is a key\n",
    "print(\"---1---\")\n",
    "print('age' in my_dict)\n",
    "\n",
    "# Check is company is a key\n",
    "print(\"---2---\")\n",
    "print('company' in my_dict)\n",
    "\n",
    "# Get the value for they key age\n",
    "print(\"---3---\")\n",
    "print(my_dict.get('age'))\n",
    "\n",
    "# Get the value for they key company\n",
    "# If it doesn't exsist, return 1\n",
    "print(\"---4---\")\n",
    "print(my_dict.get('company', 1))\n",
    "\n",
    "# Return all the keys\n",
    "print(\"---5---\")\n",
    "print(my_dict.keys())\n",
    "\n",
    "# Return all the values\n",
    "print(\"---6---\")\n",
    "print(my_dict.values())\n",
    "\n",
    "# Return all the key, value pairs\n",
    "print(\"---7---\")\n",
    "print(my_dict.items())"
   ]
  },
  {
   "cell_type": "code",
   "execution_count": 5,
   "id": "4bdcf757",
   "metadata": {},
   "outputs": [
    {
     "name": "stdout",
     "output_type": "stream",
     "text": [
      "0\n"
     ]
    }
   ],
   "source": [
    "from collections import defaultdict  # import defaultdict class\n",
    "my_default_dict = defaultdict(int)   # make a default dictionary\n",
    "my_default_dict['age'] = 22          # adding a key-value pair\n",
    "print(my_default_dict['company'])    # printing the value of the key \"company\"\n",
    "\n",
    "#we initialize defaultdict with int, at line 1"
   ]
  },
  {
   "cell_type": "code",
   "execution_count": 6,
   "id": "c8ea239f",
   "metadata": {},
   "outputs": [
    {
     "name": "stdout",
     "output_type": "stream",
     "text": [
      "---0---\n",
      "{1, 2}\n",
      "---1---\n",
      "{1, 2, 3, 4}\n",
      "---1---\n",
      "{1, 2}\n",
      "---2---\n",
      "{1, 2, 3, 4}\n",
      "---3---\n",
      "set()\n"
     ]
    }
   ],
   "source": [
    "#3, Sets in Python\n",
    "my_set = set()\n",
    "my_set.add(1)\n",
    "my_set.add(2)\n",
    "my_set.add(1)\n",
    "# Note that the set only contains a single 1 value\n",
    "print(\"---0---\")\n",
    "print(my_set)\n",
    "\n",
    "my_set2 = set()\n",
    "my_set2.add(1)\n",
    "my_set2.add(2)\n",
    "my_set2.add(3)\n",
    "my_set2.add(4)\n",
    "print(\"---1---\")\n",
    "print(my_set2)\n",
    "\n",
    "# Prints the overlap\n",
    "print(\"---1---\")\n",
    "print(my_set.intersection(my_set2))\n",
    "print(\"---2---\")\n",
    "\n",
    "# Prints the combination\n",
    "print(my_set.union(my_set2))\n",
    "\n",
    "# Prints the difference (those in my_set but not my_set2)\n",
    "print(\"---3---\")\n",
    "print(my_set.difference(my_set2))\n"
   ]
  },
  {
   "cell_type": "code",
   "execution_count": null,
   "id": "53435e8c",
   "metadata": {},
   "outputs": [],
   "source": []
  }
 ],
 "metadata": {
  "kernelspec": {
   "display_name": "Python 3 (ipykernel)",
   "language": "python",
   "name": "python3"
  },
  "language_info": {
   "codemirror_mode": {
    "name": "ipython",
    "version": 3
   },
   "file_extension": ".py",
   "mimetype": "text/x-python",
   "name": "python",
   "nbconvert_exporter": "python",
   "pygments_lexer": "ipython3",
   "version": "3.9.12"
  }
 },
 "nbformat": 4,
 "nbformat_minor": 5
}

{
 "cells": [
  {
   "cell_type": "code",
   "execution_count": 3,
   "id": "76ee0d09",
   "metadata": {},
   "outputs": [
    {
     "ename": "NameError",
     "evalue": "name 'condition' is not defined",
     "output_type": "error",
     "traceback": [
      "\u001b[1;31m---------------------------------------------------------------------------\u001b[0m",
      "\u001b[1;31mNameError\u001b[0m                                 Traceback (most recent call last)",
      "Input \u001b[1;32mIn [3]\u001b[0m, in \u001b[0;36m<cell line: 2>\u001b[1;34m()\u001b[0m\n\u001b[0;32m      1\u001b[0m \u001b[38;5;66;03m#Control structures in Python\u001b[39;00m\n\u001b[1;32m----> 2\u001b[0m \u001b[38;5;28;01mif\u001b[39;00m \u001b[43mcondition\u001b[49m:\n\u001b[0;32m      3\u001b[0m   statements\n\u001b[0;32m      4\u001b[0m \u001b[38;5;28;01melif\u001b[39;00m condition:\n",
      "\u001b[1;31mNameError\u001b[0m: name 'condition' is not defined"
     ]
    }
   ],
   "source": [
    "#Control structures in Python\n",
    "if condition:\n",
    "  statements\n",
    "elif condition:\n",
    "  statements\n",
    "else:\n",
    "  statements\n",
    "#Following is a code example\n"
   ]
  },
  {
   "cell_type": "code",
   "execution_count": 2,
   "id": "4db063c4",
   "metadata": {},
   "outputs": [
    {
     "name": "stdout",
     "output_type": "stream",
     "text": [
      "Older than 40\n",
      "None\n"
     ]
    }
   ],
   "source": [
    "def age_check(age):\n",
    "\n",
    "    if age > 40:  # if age greater than 40, print \"Older than 40\"\n",
    "        print(\"Older than 40\")\n",
    "    elif age > 30 and age <= 40: # if age greater than 30 and less than or equal to 40, print \"Between 30 and 40\"\n",
    "        print(\"Between 30 and 40\")\n",
    "    else:  # if neither of the previous conditions are met, print \"Other\"\n",
    "        print(\"Other\")\n",
    "\n",
    "print(age_check(41))"
   ]
  },
  {
   "cell_type": "code",
   "execution_count": 4,
   "id": "10a1942c",
   "metadata": {},
   "outputs": [
    {
     "name": "stdout",
     "output_type": "stream",
     "text": [
      "Index: 0\n",
      "Value: tyler\n",
      "Index: 1\n",
      "Value: karen\n",
      "Index: 2\n",
      "Value: jill\n"
     ]
    }
   ],
   "source": [
    "#The for construct \n",
    "names = ['tyler', 'karen', 'jill']   # list containing names\n",
    "\n",
    "for i, name in enumerate(names):     # iterating over names\n",
    "    print(\"Index: {0}\".format(i))    # printing index number\n",
    "    print(\"Value: {0}\".format(name)) # print the value at the index"
   ]
  },
  {
   "cell_type": "code",
   "execution_count": 5,
   "id": "7cfd9d7a",
   "metadata": {},
   "outputs": [
    {
     "data": {
      "text/plain": [
       "'Note: The range() creates a list of values starting from the first\\nnumber and ending at the number right before the last number.'"
      ]
     },
     "execution_count": 5,
     "metadata": {},
     "output_type": "execute_result"
    }
   ],
   "source": [
    "\"\"\"Note: The range() creates a list of values starting from the first\n",
    "number and ending at the number right before the last number.\"\"\""
   ]
  },
  {
   "cell_type": "code",
   "execution_count": 6,
   "id": "c2e9e8f1",
   "metadata": {},
   "outputs": [
    {
     "name": "stdout",
     "output_type": "stream",
     "text": [
      "[6, 7, 8, 9, 10, 11, 12, 13, 14]\n"
     ]
    }
   ],
   "source": [
    "numbers_gt_5 = [x for x in range(1,15) if x > 5]  # loop over the range and only keep the value if greater than 5\n",
    "print(numbers_gt_5)"
   ]
  },
  {
   "cell_type": "code",
   "execution_count": 8,
   "id": "6626a858",
   "metadata": {},
   "outputs": [
    {
     "name": "stdout",
     "output_type": "stream",
     "text": [
      "[1, 2, 3, 4, 5]\n"
     ]
    }
   ],
   "source": [
    "#We could also increment every value in a list by 1 as below\n",
    "nums_plus_one = [x + 1 for x in range(5)]\n",
    "print(nums_plus_one)"
   ]
  },
  {
   "cell_type": "code",
   "execution_count": 9,
   "id": "aaa4a200",
   "metadata": {},
   "outputs": [
    {
     "name": "stdout",
     "output_type": "stream",
     "text": [
      "[-5, 1, 2, 10, 22]\n"
     ]
    }
   ],
   "source": [
    "#The sort function\n",
    "my_list = [2, 10, 1, -5, 22]\n",
    "my_list.sort()  # sorting the list\n",
    "\n",
    "print(my_list)"
   ]
  },
  {
   "cell_type": "code",
   "execution_count": 10,
   "id": "85f1761e",
   "metadata": {},
   "outputs": [
    {
     "name": "stdout",
     "output_type": "stream",
     "text": [
      "[22, 10, -5, 2, 1]\n"
     ]
    }
   ],
   "source": [
    "my_list = [2, 10, 1, -5, 22]\n",
    "\n",
    "# Sorted reversely on basis of absolute value\n",
    "my_list_sorted_abs = sorted(my_list, key=abs, reverse=True)\n",
    "\n",
    "print(my_list_sorted_abs)"
   ]
  },
  {
   "cell_type": "code",
   "execution_count": 11,
   "id": "ce9c816a",
   "metadata": {},
   "outputs": [
    {
     "name": "stdout",
     "output_type": "stream",
     "text": [
      "[(1, 'x'), (2, 'y'), (3, 'z')]\n"
     ]
    }
   ],
   "source": [
    "#The zip function \n",
    "#Combining two lists into a tuple\n",
    "list_1 = [1, 2, 3]  # create your first list\n",
    "list_2 = ['x', 'y', 'z']  # create your second list\n",
    "\n",
    "print(list(zip(list_1, list_2)))  #combine and print"
   ]
  },
  {
   "cell_type": "code",
   "execution_count": 12,
   "id": "4043654c",
   "metadata": {},
   "outputs": [
    {
     "name": "stdout",
     "output_type": "stream",
     "text": [
      "('x', 'y', 'z')\n",
      "(1, 2, 3)\n"
     ]
    }
   ],
   "source": [
    "#Breaking a tuple into two lists \n",
    "pairs = [('x', 1), ('y', 2), ('z', 3)]  # a list of tuples\n",
    "letters, numbers = zip(*pairs)  # break into two lists\n",
    "\n",
    "print(letters)  # print the first values of the tuples\n",
    "print(numbers)  # print the second values of the tuples"
   ]
  },
  {
   "cell_type": "code",
   "execution_count": null,
   "id": "bed7e1f3",
   "metadata": {},
   "outputs": [],
   "source": []
  }
 ],
 "metadata": {
  "kernelspec": {
   "display_name": "Python 3 (ipykernel)",
   "language": "python",
   "name": "python3"
  },
  "language_info": {
   "codemirror_mode": {
    "name": "ipython",
    "version": 3
   },
   "file_extension": ".py",
   "mimetype": "text/x-python",
   "name": "python",
   "nbconvert_exporter": "python",
   "pygments_lexer": "ipython3",
   "version": "3.9.12"
  }
 },
 "nbformat": 4,
 "nbformat_minor": 5
}

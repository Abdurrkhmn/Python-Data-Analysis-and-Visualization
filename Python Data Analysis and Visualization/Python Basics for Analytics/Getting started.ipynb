{
 "cells": [
  {
   "cell_type": "code",
   "execution_count": 1,
   "id": "00b68e37",
   "metadata": {},
   "outputs": [
    {
     "name": "stdout",
     "output_type": "stream",
     "text": [
      "15\n"
     ]
    }
   ],
   "source": [
    "x = 5\n",
    "y = 10\n",
    "print(x+y)"
   ]
  },
  {
   "cell_type": "code",
   "execution_count": 7,
   "id": "76a09768",
   "metadata": {},
   "outputs": [
    {
     "name": "stdout",
     "output_type": "stream",
     "text": [
      "[(22, 2), (25, 2), (24, 2), (30, 1), (26, 1), (35, 1)]\n"
     ]
    }
   ],
   "source": [
    "#Importing functionalities \n",
    "from collections import Counter\n",
    "marriage_ages = [22, 22, 25, 25, 30, 24, 26, 24, 35]  # create a list\n",
    "value_counts = Counter(marriage_ages)  # apply the counter functionality\n",
    "print(value_counts.most_common())\n",
    "\n"
   ]
  },
  {
   "cell_type": "code",
   "execution_count": 8,
   "id": "292bba6d",
   "metadata": {},
   "outputs": [
    {
     "name": "stdout",
     "output_type": "stream",
     "text": [
      "105\n"
     ]
    }
   ],
   "source": [
    "#Functions in Python \n",
    "def add_two_numbers(x, y):  # function header\n",
    "    \"\"\"\n",
    "    Takes in two numbers and returns the sum\n",
    "    parameters\n",
    "        x : str\n",
    "            first number\n",
    "        y : str\n",
    "            second number\n",
    "    returns\n",
    "        x+y\n",
    "    \"\"\"\n",
    "    z = x + y\n",
    "    return z  # function return\n",
    "print(add_two_numbers(100,5))  # function  call\n"
   ]
  },
  {
   "cell_type": "code",
   "execution_count": 9,
   "id": "95e5d9a1",
   "metadata": {},
   "outputs": [
    {
     "name": "stdout",
     "output_type": "stream",
     "text": [
      "105\n"
     ]
    }
   ],
   "source": [
    "y = lambda x, y: x + y  # an anonymous function which takes x and y and input and returns x+y\n",
    "print(y(100,5))  # call the function"
   ]
  },
  {
   "cell_type": "code",
   "execution_count": null,
   "id": "278809d8",
   "metadata": {},
   "outputs": [],
   "source": []
  }
 ],
 "metadata": {
  "kernelspec": {
   "display_name": "Python 3 (ipykernel)",
   "language": "python",
   "name": "python3"
  },
  "language_info": {
   "codemirror_mode": {
    "name": "ipython",
    "version": 3
   },
   "file_extension": ".py",
   "mimetype": "text/x-python",
   "name": "python",
   "nbconvert_exporter": "python",
   "pygments_lexer": "ipython3",
   "version": "3.9.12"
  }
 },
 "nbformat": 4,
 "nbformat_minor": 5
}

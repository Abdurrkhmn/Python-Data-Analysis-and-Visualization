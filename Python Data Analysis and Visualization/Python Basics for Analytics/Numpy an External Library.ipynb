{
 "cells": [
  {
   "cell_type": "code",
   "execution_count": 1,
   "id": "a77416a0",
   "metadata": {},
   "outputs": [
    {
     "name": "stdout",
     "output_type": "stream",
     "text": [
      "--0--\n",
      "[ 5 10 15 20 25 30]\n",
      "--1--\n",
      "8.539125638299666\n",
      "--2--\n",
      "30\n",
      "--3--\n",
      "[ 25 100 225 400 625 900]\n",
      "--4--\n",
      "[10 20 30 40 50 60]\n",
      "--5--\n",
      "2275\n",
      "--6--\n",
      "(6,)\n"
     ]
    }
   ],
   "source": [
    "#1, Handling arrays with NumPy \n",
    "#Single dimensional arrays\n",
    "import numpy as np\n",
    "\n",
    "# This creates our array\n",
    "np_array = np.array([5, 10, 15, 20, 25, 30])\n",
    "print(\"--0--\")\n",
    "\n",
    "# Gets the unique values\n",
    "print(np.unique(np_array))\n",
    "print(\"--1--\")\n",
    "\n",
    "# Calculates the standard deviation\n",
    "print(np.std(np_array))\n",
    "print(\"--2--\")\n",
    "\n",
    "# Calculates the maximum\n",
    "print(np_array.max())\n",
    "print(\"--3--\")\n",
    "\n",
    "# Squares each value in the array\n",
    "print(np_array ** 2)\n",
    "print(\"--4--\")\n",
    "\n",
    "# Adds the arrays together element wise\n",
    "print(np_array + np_array)\n",
    "print(\"--5--\")\n",
    "\n",
    "# The sum of the squares of the elements\n",
    "print(np.sum(np_array ** 2))\n",
    "print(\"--6--\")\n",
    "\n",
    "# Gives you the shape: (rows, columns)\n",
    "print(np_array.shape)"
   ]
  },
  {
   "cell_type": "code",
   "execution_count": 2,
   "id": "5c7e58b6",
   "metadata": {},
   "outputs": [
    {
     "name": "stdout",
     "output_type": "stream",
     "text": [
      "--0--\n",
      "[[1 2 3]\n",
      " [4 5 6]]\n",
      "--1--\n",
      "[[1 4]\n",
      " [2 5]\n",
      " [3 6]]\n",
      "--3--\n",
      "(2, 3)\n",
      "--4--\n",
      "5\n",
      "3\n"
     ]
    }
   ],
   "source": [
    "#Two dimensional arrays\n",
    "import numpy as np\n",
    "\n",
    "# Create 2d array\n",
    "print(\"--0--\")\n",
    "np_2d_array = np.array([[1,2,3], \n",
    "                        [4,5,6]])\n",
    "print(np_2d_array)\n",
    "\n",
    "# Calculate the transpose, which is when you swap the columns and rows.\n",
    "print(\"--1--\")\n",
    "np_2d_array_T = np_2d_array.T\n",
    "print(np_2d_array_T)\n",
    "\n",
    "# Print the shape of the array as (number of rows, number of columns)\n",
    "print(\"--3--\")\n",
    "print(np_2d_array.shape)\n",
    "\n",
    "# Access elements in the 2d array by index. \n",
    "# First index is the row number\n",
    "# Second index is the column number\n",
    "# Index numbers start from 0\n",
    "print(\"--4--\")\n",
    "print(np_2d_array[1,1])\n",
    "print(np_2d_array[0,2])"
   ]
  },
  {
   "cell_type": "code",
   "execution_count": 3,
   "id": "4fc2e45c",
   "metadata": {},
   "outputs": [
    {
     "name": "stdout",
     "output_type": "stream",
     "text": [
      "2275\n"
     ]
    }
   ],
   "source": [
    "#2, Important functionalities\n",
    "#Calculating dot product\n",
    "import numpy as np\n",
    "np_array = np.array([5, 10, 15, 20, 25, 30])\n",
    "dot_product = np.dot(np_array, np_array)\n",
    "print(dot_product)\n",
    "\n",
    "# references= https://en.wikipedia.org/wiki/Dot_product"
   ]
  },
  {
   "cell_type": "code",
   "execution_count": 4,
   "id": "8d550b60",
   "metadata": {},
   "outputs": [
    {
     "name": "stdout",
     "output_type": "stream",
     "text": [
      "--0--\n",
      "0.4187389062791438\n",
      "--1--\n",
      "[[0.79110402 0.05099393]\n",
      " [0.14563127 0.24692526]\n",
      " [0.5868555  0.32590773]]\n"
     ]
    }
   ],
   "source": [
    "#Generating random values\n",
    "import numpy as np\n",
    "\n",
    "# Generage a single random number in range [0,1)\n",
    "print(\"--0--\")\n",
    "print(np.random.rand())\n",
    "\n",
    "# Generate a matrix of random numbers in range [0,1) with shape (3,2)\n",
    "print(\"--1--\")\n",
    "print(np.random.rand(3,2))"
   ]
  },
  {
   "cell_type": "code",
   "execution_count": 5,
   "id": "9f63501a",
   "metadata": {},
   "outputs": [
    {
     "name": "stdout",
     "output_type": "stream",
     "text": [
      "--0--\n",
      "[ 6 11]\n",
      "--1--\n",
      "[[13  6]\n",
      " [ 9  9]\n",
      " [ 9  5]]\n"
     ]
    }
   ],
   "source": [
    "#You can also use randint()\n",
    "import numpy as np\n",
    "\n",
    "# Low=5, High=15, Size=2. Generate 2 values between 5 and 15 (exclusive)\n",
    "print(\"--0--\")\n",
    "print(np.random.randint(5, 15, 2))\n",
    "\n",
    "# Low=5, High=15, Size=(3,2). Generate a matrix of shape (3,2) with values between 5 and 15 (exclusive)\n",
    "print(\"--1--\")\n",
    "print(np.random.randint(5, 15, (3,2)))"
   ]
  },
  {
   "cell_type": "code",
   "execution_count": 6,
   "id": "4460511b",
   "metadata": {},
   "outputs": [
    {
     "name": "stdout",
     "output_type": "stream",
     "text": [
      "--0--\n",
      "[1 5 1 2 5 3 4 4 5 5]\n",
      "--1--\n",
      "[1 5 4]\n"
     ]
    }
   ],
   "source": [
    "#Sampling the data\n",
    "import numpy as np\n",
    "array = np.array([1,2,3,4,5])\n",
    "\n",
    "# Sample 10 data points with replacement. \n",
    "print(\"--0--\")\n",
    "print(np.random.choice(array, 10, replace=True))\n",
    "\n",
    "# Sample 3 data points without replacement. \n",
    "print(\"--1--\")\n",
    "print(np.random.choice(array, 3, replace=False))"
   ]
  },
  {
   "cell_type": "code",
   "execution_count": 7,
   "id": "22f99e9b",
   "metadata": {},
   "outputs": [
    {
     "name": "stdout",
     "output_type": "stream",
     "text": [
      "[2, 1, 5, 3, 4]\n"
     ]
    }
   ],
   "source": [
    "#Randomly shuffling values\n",
    "import numpy as np\n",
    "\n",
    "x = [1,2,3,4,5]  # Create a list of 5 elements\n",
    "np.random.shuffle(x)  # Randomly shuffle the order of the elements in the list\n",
    "\n",
    "print(x)"
   ]
  },
  {
   "cell_type": "code",
   "execution_count": 8,
   "id": "6147911f",
   "metadata": {},
   "outputs": [],
   "source": [
    "import numpy as np\n",
    "np.random.seed(42)"
   ]
  },
  {
   "cell_type": "code",
   "execution_count": 13,
   "id": "99047895",
   "metadata": {},
   "outputs": [
    {
     "name": "stdout",
     "output_type": "stream",
     "text": [
      "[2, 5, 3, 1, 4]\n"
     ]
    }
   ],
   "source": [
    "import numpy as np\n",
    "np.random.seed(42)\n",
    "x = [1,2,3,4,5]  # Create a list of 5 elements\n",
    "np.random.shuffle(x) # Randomly shuffle the order of the elements in the list\n",
    "\n",
    "print(x)"
   ]
  },
  {
   "cell_type": "code",
   "execution_count": null,
   "id": "169f77a4",
   "metadata": {},
   "outputs": [],
   "source": []
  }
 ],
 "metadata": {
  "kernelspec": {
   "display_name": "Python 3 (ipykernel)",
   "language": "python",
   "name": "python3"
  },
  "language_info": {
   "codemirror_mode": {
    "name": "ipython",
    "version": 3
   },
   "file_extension": ".py",
   "mimetype": "text/x-python",
   "name": "python",
   "nbconvert_exporter": "python",
   "pygments_lexer": "ipython3",
   "version": "3.9.12"
  }
 },
 "nbformat": 4,
 "nbformat_minor": 5
}

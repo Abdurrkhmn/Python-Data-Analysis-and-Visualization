{
 "cells": [
  {
   "cell_type": "code",
   "execution_count": 4,
   "id": "7e6f3e75",
   "metadata": {},
   "outputs": [
    {
     "name": "stdout",
     "output_type": "stream",
     "text": [
      "(0.9999999999999999, 1.8488927466117464e-32)\n"
     ]
    }
   ],
   "source": [
    "from scipy import stats\n",
    "import numpy as np\n",
    "\n",
    "array_1 = np.array([1,2,3,4,5,6])  # Create a numpy array from a list\n",
    "array_2 = array_1  # Create another array with the same values\n",
    "\n",
    "print(stats.pearsonr(array_1, array_2))  # Calculate the correlation which will be 1 since the values are the same "
   ]
  },
  {
   "cell_type": "code",
   "execution_count": 5,
   "id": "cbbe9ae8",
   "metadata": {},
   "outputs": [
    {
     "name": "stdout",
     "output_type": "stream",
     "text": [
      "[ 8.66334058  2.5297475   6.80555607 -5.23076141 11.09837205 18.12162318\n",
      " -4.28995373  5.70700018 -4.78314394 16.39718997]\n"
     ]
    }
   ],
   "source": [
    "#2, Generating samples from distributions \n",
    "#Normal distribution \n",
    "from scipy import stats\n",
    "\n",
    "x = stats.norm.rvs(loc=0, scale=10, size=10)  # Generate 10 values randomly sampled from a normal distribution with mean 0 and standard deviation of 10\n",
    "\n",
    "print(x)\n"
   ]
  },
  {
   "cell_type": "code",
   "execution_count": 9,
   "id": "b2fbccdd",
   "metadata": {},
   "outputs": [
    {
     "name": "stdout",
     "output_type": "stream",
     "text": [
      "7.69459862670642e-24\n",
      "0.03989422804014327\n"
     ]
    }
   ],
   "source": [
    "#Probability density function\n",
    "from scipy import stats\n",
    "\n",
    "p1 = stats.norm.pdf(x=-100, loc=0, scale=10)  # Get probability of sampling a value of -100\n",
    "p2 = stats.norm.pdf(x=0, loc=0, scale=10)     # Get probability of sampling a value of 0\n",
    "\n",
    "print(p1)\n",
    "print(p2)"
   ]
  },
  {
   "cell_type": "code",
   "execution_count": 10,
   "id": "02228a76",
   "metadata": {},
   "outputs": [
    {
     "name": "stdout",
     "output_type": "stream",
     "text": [
      "0.5\n"
     ]
    }
   ],
   "source": [
    "#Cumulative distribution function\n",
    "from scipy import stats\n",
    "\n",
    "p1 = stats.norm.cdf(x=0, loc=0, scale=10)  # Get probability of sampling a value less than or equal to 0\n",
    "\n",
    "print(p1)"
   ]
  },
  {
   "cell_type": "code",
   "execution_count": 11,
   "id": "cffb86b7",
   "metadata": {},
   "outputs": [
    {
     "name": "stdout",
     "output_type": "stream",
     "text": [
      "DescribeResult(nobs=500, minmax=(-2.5015217991238092, 2.8524674008904327), mean=-0.015701929155467375, variance=0.956875299398878, skewness=0.08450759941940315, kurtosis=-0.2003014430005412)\n"
     ]
    }
   ],
   "source": [
    "#Calculating descriptive statistics \n",
    "from scipy import stats\n",
    "\n",
    "print(stats.describe(stats.norm.rvs(loc=0, scale=1, size=500)))  # Calculate descriptive statistics for 500 data points sampled from normal distribution with mean 0 and standard deviation of 1"
   ]
  },
  {
   "cell_type": "code",
   "execution_count": null,
   "id": "5405c117",
   "metadata": {},
   "outputs": [],
   "source": []
  }
 ],
 "metadata": {
  "kernelspec": {
   "display_name": "Python 3 (ipykernel)",
   "language": "python",
   "name": "python3"
  },
  "language_info": {
   "codemirror_mode": {
    "name": "ipython",
    "version": 3
   },
   "file_extension": ".py",
   "mimetype": "text/x-python",
   "name": "python",
   "nbconvert_exporter": "python",
   "pygments_lexer": "ipython3",
   "version": "3.9.12"
  }
 },
 "nbformat": 4,
 "nbformat_minor": 5
}

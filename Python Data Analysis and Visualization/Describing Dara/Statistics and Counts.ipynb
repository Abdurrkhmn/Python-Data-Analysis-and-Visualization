{
 "cells": [
  {
   "cell_type": "code",
   "execution_count": 2,
   "id": "aeb5b1ee",
   "metadata": {},
   "outputs": [
    {
     "name": "stdout",
     "output_type": "stream",
     "text": [
      "   age          workclass  fnlwgt   education  educationnum  \\\n",
      "0   39          State-gov   77516   Bachelors            13   \n",
      "1   50   Self-emp-not-inc   83311   Bachelors            13   \n",
      "2   38            Private  215646     HS-grad             9   \n",
      "3   53            Private  234721        11th             7   \n",
      "4   28            Private  338409   Bachelors            13   \n",
      "\n",
      "         maritalstatus          occupation    relationship    race      sex  \\\n",
      "0        Never-married        Adm-clerical   Not-in-family   White     Male   \n",
      "1   Married-civ-spouse     Exec-managerial         Husband   White     Male   \n",
      "2             Divorced   Handlers-cleaners   Not-in-family   White     Male   \n",
      "3   Married-civ-spouse   Handlers-cleaners         Husband   Black     Male   \n",
      "4   Married-civ-spouse      Prof-specialty            Wife   Black   Female   \n",
      "\n",
      "   capitalgain  capitalloss  hoursperweek   nativecountry   label  \n",
      "0         2174            0            40   United-States   <=50K  \n",
      "1            0            0            13   United-States   <=50K  \n",
      "2            0            0            40   United-States   <=50K  \n",
      "3            0            0            40   United-States   <=50K  \n",
      "4            0            0            40            Cuba   <=50K  \n"
     ]
    }
   ],
   "source": [
    "import pandas as pd\n",
    "names = ['age', 'workclass', 'fnlwgt', 'education', 'educationnum', 'maritalstatus', 'occupation', 'relationship', 'race',\n",
    "        'sex', 'capitalgain', 'capitalloss', 'hoursperweek', 'nativecountry', 'label']\n",
    "train_df = pd.read_csv(\"adult.data\", header=None, names=names)\n",
    "print(train_df.head())"
   ]
  },
  {
   "cell_type": "code",
   "execution_count": 3,
   "id": "fb4a0ef2",
   "metadata": {},
   "outputs": [
    {
     "name": "stdout",
     "output_type": "stream",
     "text": [
      "                age        fnlwgt  educationnum   capitalgain   capitalloss  \\\n",
      "count  32561.000000  3.256100e+04  32561.000000  32561.000000  32561.000000   \n",
      "mean      38.581647  1.897784e+05     10.080679   1077.648844     87.303830   \n",
      "std       13.640433  1.055500e+05      2.572720   7385.292085    402.960219   \n",
      "min       17.000000  1.228500e+04      1.000000      0.000000      0.000000   \n",
      "25%       28.000000  1.178270e+05      9.000000      0.000000      0.000000   \n",
      "50%       37.000000  1.783560e+05     10.000000      0.000000      0.000000   \n",
      "75%       48.000000  2.370510e+05     12.000000      0.000000      0.000000   \n",
      "max       90.000000  1.484705e+06     16.000000  99999.000000   4356.000000   \n",
      "\n",
      "       hoursperweek  \n",
      "count  32561.000000  \n",
      "mean      40.437456  \n",
      "std       12.347429  \n",
      "min        1.000000  \n",
      "25%       40.000000  \n",
      "50%       40.000000  \n",
      "75%       45.000000  \n",
      "max       99.000000  \n"
     ]
    }
   ],
   "source": [
    "#Gathering statistics on data \n",
    "import pandas as pd\n",
    "names = ['age', 'workclass', 'fnlwgt', 'education', 'educationnum', 'maritalstatus', 'occupation', 'relationship', 'race',\n",
    "        'sex', 'capitalgain', 'capitalloss', 'hoursperweek', 'nativecountry', 'label']\n",
    "train_df = pd.read_csv(\"adult.data\", header=None, names=names)\n",
    "print(train_df.describe())"
   ]
  },
  {
   "cell_type": "code",
   "execution_count": 4,
   "id": "44d6eb88",
   "metadata": {},
   "outputs": [
    {
     "name": "stdout",
     "output_type": "stream",
     "text": [
      "<class 'pandas.core.frame.DataFrame'>\n",
      "RangeIndex: 32561 entries, 0 to 32560\n",
      "Data columns (total 15 columns):\n",
      " #   Column         Non-Null Count  Dtype \n",
      "---  ------         --------------  ----- \n",
      " 0   age            32561 non-null  int64 \n",
      " 1   workclass      32561 non-null  object\n",
      " 2   fnlwgt         32561 non-null  int64 \n",
      " 3   education      32561 non-null  object\n",
      " 4   educationnum   32561 non-null  int64 \n",
      " 5   maritalstatus  32561 non-null  object\n",
      " 6   occupation     32561 non-null  object\n",
      " 7   relationship   32561 non-null  object\n",
      " 8   race           32561 non-null  object\n",
      " 9   sex            32561 non-null  object\n",
      " 10  capitalgain    32561 non-null  int64 \n",
      " 11  capitalloss    32561 non-null  int64 \n",
      " 12  hoursperweek   32561 non-null  int64 \n",
      " 13  nativecountry  32561 non-null  object\n",
      " 14  label          32561 non-null  object\n",
      "dtypes: int64(6), object(9)\n",
      "memory usage: 3.7+ MB\n",
      "None\n"
     ]
    }
   ],
   "source": [
    "#Finding the data types \n",
    "import pandas as pd\n",
    "\n",
    "# Read in data as explained in reading CSV lesson\n",
    "names = ['age', 'workclass', 'fnlwgt', 'education', 'educationnum', 'maritalstatus', 'occupation', 'relationship', 'race',\n",
    "        'sex', 'capitalgain', 'capitalloss', 'hoursperweek', 'nativecountry', 'label']\n",
    "train_df = pd.read_csv(\"adult.data\", header=None, names=names)\n",
    "                      \n",
    "print(train_df.info())  # Use the info() function on the dataframe"
   ]
  },
  {
   "cell_type": "code",
   "execution_count": 6,
   "id": "dc44a6c9",
   "metadata": {},
   "outputs": [
    {
     "name": "stdout",
     "output_type": "stream",
     "text": [
      "[' Not-in-family' ' Husband' ' Wife' ' Own-child' ' Unmarried'\n",
      " ' Other-relative']\n"
     ]
    }
   ],
   "source": [
    "#Finding unique values \n",
    "import pandas as pd\n",
    "names = ['age', 'workclass', 'fnlwgt', 'education', 'educationnum', 'maritalstatus', 'occupation', 'relationship', 'race',\n",
    "        'sex', 'capitalgain', 'capitalloss', 'hoursperweek', 'nativecountry', 'label']\n",
    "train_df = pd.read_csv(\"adult.data\", header=None, names=names)\n",
    "print(train_df['relationship'].unique())"
   ]
  },
  {
   "cell_type": "code",
   "execution_count": 7,
   "id": "99f9e1f2",
   "metadata": {},
   "outputs": [
    {
     "name": "stdout",
     "output_type": "stream",
     "text": [
      "relationship     label \n",
      " Husband          <=50K    0.551429\n",
      "                  >50K     0.448571\n",
      " Not-in-family    <=50K    0.896930\n",
      "                  >50K     0.103070\n",
      " Other-relative   <=50K    0.962283\n",
      "                  >50K     0.037717\n",
      " Own-child        <=50K    0.986780\n",
      "                  >50K     0.013220\n",
      " Unmarried        <=50K    0.936738\n",
      "                  >50K     0.063262\n",
      " Wife             <=50K    0.524872\n",
      "                  >50K     0.475128\n",
      "Name: label, dtype: float64\n"
     ]
    }
   ],
   "source": [
    "#Grouping the data \n",
    "import pandas as pd\n",
    "names = ['age', 'workclass', 'fnlwgt', 'education', 'educationnum', 'maritalstatus', 'occupation', 'relationship', 'race',\n",
    "        'sex', 'capitalgain', 'capitalloss', 'hoursperweek', 'nativecountry', 'label']\n",
    "train_df = pd.read_csv(\"adult.data\", header=None, names=names)\n",
    "\n",
    "# Group by relationship and then get the value counts of label with normalization                   \n",
    "print(train_df.groupby('relationship')['label'].value_counts(normalize=True))"
   ]
  },
  {
   "cell_type": "code",
   "execution_count": 8,
   "id": "b6fa88d0",
   "metadata": {},
   "outputs": [
    {
     "name": "stdout",
     "output_type": "stream",
     "text": [
      "workclass\n",
      " ?                   31.919390\n",
      " Federal-gov         41.379167\n",
      " Local-gov           40.982800\n",
      " Never-worked        28.428571\n",
      " Private             40.267096\n",
      " Self-emp-inc        48.818100\n",
      " Self-emp-not-inc    44.421881\n",
      " State-gov           39.031587\n",
      " Without-pay         32.714286\n",
      "Name: hoursperweek, dtype: float64\n"
     ]
    }
   ],
   "source": [
    "import pandas as pd\n",
    "names = ['age', 'workclass', 'fnlwgt', 'education', 'educationnum', 'maritalstatus', 'occupation', 'relationship', 'race',\n",
    "        'sex', 'capitalgain', 'capitalloss', 'hoursperweek', 'nativecountry', 'label']\n",
    "train_df = pd.read_csv(\"adult.data\", header=None, names=names)\n",
    "print(train_df.groupby(['workclass'])['hoursperweek'].mean())"
   ]
  },
  {
   "cell_type": "code",
   "execution_count": 9,
   "id": "7b14c952",
   "metadata": {},
   "outputs": [
    {
     "name": "stdout",
     "output_type": "stream",
     "text": [
      "                   age    fnlwgt  educationnum  capitalgain  capitalloss  \\\n",
      "age           1.000000 -0.076646      0.036527     0.077674     0.057775   \n",
      "fnlwgt       -0.076646  1.000000     -0.043195     0.000432    -0.010252   \n",
      "educationnum  0.036527 -0.043195      1.000000     0.122630     0.079923   \n",
      "capitalgain   0.077674  0.000432      0.122630     1.000000    -0.031615   \n",
      "capitalloss   0.057775 -0.010252      0.079923    -0.031615     1.000000   \n",
      "hoursperweek  0.068756 -0.018768      0.148123     0.078409     0.054256   \n",
      "\n",
      "              hoursperweek  \n",
      "age               0.068756  \n",
      "fnlwgt           -0.018768  \n",
      "educationnum      0.148123  \n",
      "capitalgain       0.078409  \n",
      "capitalloss       0.054256  \n",
      "hoursperweek      1.000000  \n"
     ]
    }
   ],
   "source": [
    "#Finding the correlation \n",
    "import pandas as pd\n",
    "names = ['age', 'workclass', 'fnlwgt', 'education', 'educationnum', 'maritalstatus', 'occupation', 'relationship', 'race',\n",
    "        'sex', 'capitalgain', 'capitalloss', 'hoursperweek', 'nativecountry', 'label']\n",
    "train_df = pd.read_csv(\"adult.data\", header=None, names=names)\n",
    "\n",
    "# Calculate correlations                   \n",
    "print(train_df.corr())"
   ]
  },
  {
   "cell_type": "code",
   "execution_count": 10,
   "id": "21fb2d8e",
   "metadata": {},
   "outputs": [
    {
     "name": "stdout",
     "output_type": "stream",
     "text": [
      "                   age    fnlwgt  educationnum  capitalgain  capitalloss  \\\n",
      "age           1.000000 -0.076646      0.036527     0.077674     0.057775   \n",
      "fnlwgt       -0.076646  1.000000     -0.043195     0.000432    -0.010252   \n",
      "educationnum  0.036527 -0.043195      1.000000     0.122630     0.079923   \n",
      "capitalgain   0.077674  0.000432      0.122630     1.000000    -0.031615   \n",
      "capitalloss   0.057775 -0.010252      0.079923    -0.031615     1.000000   \n",
      "hoursperweek  0.068756 -0.018768      0.148123     0.078409     0.054256   \n",
      "label_int     0.234037 -0.009463      0.335154     0.223329     0.150526   \n",
      "\n",
      "              hoursperweek  label_int  \n",
      "age               0.068756   0.234037  \n",
      "fnlwgt           -0.018768  -0.009463  \n",
      "educationnum      0.148123   0.335154  \n",
      "capitalgain       0.078409   0.223329  \n",
      "capitalloss       0.054256   0.150526  \n",
      "hoursperweek      1.000000   0.229689  \n",
      "label_int         0.229689   1.000000  \n"
     ]
    }
   ],
   "source": [
    "import pandas as pd\n",
    "names = ['age', 'workclass', 'fnlwgt', 'education', 'educationnum', 'maritalstatus', 'occupation', 'relationship', 'race',\n",
    "        'sex', 'capitalgain', 'capitalloss', 'hoursperweek', 'nativecountry', 'label']\n",
    "train_df = pd.read_csv(\"adult.data\", header=None, names=names)\n",
    "\n",
    "# Convert the string label into a value of 1 when >= 50k and 0 otherwise\n",
    "train_df['label_int'] = train_df.label.apply(lambda x: \">\" in x)\n",
    "print(train_df.corr())"
   ]
  },
  {
   "cell_type": "code",
   "execution_count": 11,
   "id": "d43096c5",
   "metadata": {},
   "outputs": [
    {
     "name": "stdout",
     "output_type": "stream",
     "text": [
      "                age        fnlwgt  educationnum   capitalgain   capitalloss  \\\n",
      "count  32561.000000  3.256100e+04  32561.000000  32561.000000  32561.000000   \n",
      "mean      38.581647  1.897784e+05     10.080679   1077.648844     87.303830   \n",
      "std       13.640433  1.055500e+05      2.572720   7385.292085    402.960219   \n",
      "min       17.000000  1.228500e+04      1.000000      0.000000      0.000000   \n",
      "1%        17.000000  2.718580e+04      3.000000      0.000000      0.000000   \n",
      "5%        19.000000  3.946000e+04      5.000000      0.000000      0.000000   \n",
      "50%       37.000000  1.783560e+05     10.000000      0.000000      0.000000   \n",
      "95%       63.000000  3.796820e+05     14.000000   5013.000000      0.000000   \n",
      "99%       74.000000  5.100720e+05     16.000000  15024.000000   1980.000000   \n",
      "max       90.000000  1.484705e+06     16.000000  99999.000000   4356.000000   \n",
      "\n",
      "       hoursperweek  \n",
      "count  32561.000000  \n",
      "mean      40.437456  \n",
      "std       12.347429  \n",
      "min        1.000000  \n",
      "1%         8.000000  \n",
      "5%        18.000000  \n",
      "50%       40.000000  \n",
      "95%       60.000000  \n",
      "99%       80.000000  \n",
      "max       99.000000  \n"
     ]
    }
   ],
   "source": [
    "#Generating percentiles \n",
    "import pandas as pd\n",
    "names = ['age', 'workclass', 'fnlwgt', 'education', 'educationnum', 'maritalstatus', 'occupation', 'relationship', 'race',\n",
    "        'sex', 'capitalgain', 'capitalloss', 'hoursperweek', 'nativecountry', 'label']\n",
    "train_df = pd.read_csv(\"adult.data\", header=None, names=names)\n",
    "\n",
    "# Use the describe function to calculate the percentiles specified                     \n",
    "print(train_df.describe(percentiles=[.01,.05,.95,.99]))"
   ]
  },
  {
   "cell_type": "code",
   "execution_count": null,
   "id": "94439571",
   "metadata": {},
   "outputs": [],
   "source": []
  }
 ],
 "metadata": {
  "kernelspec": {
   "display_name": "Python 3 (ipykernel)",
   "language": "python",
   "name": "python3"
  },
  "language_info": {
   "codemirror_mode": {
    "name": "ipython",
    "version": 3
   },
   "file_extension": ".py",
   "mimetype": "text/x-python",
   "name": "python",
   "nbconvert_exporter": "python",
   "pygments_lexer": "ipython3",
   "version": "3.9.12"
  }
 },
 "nbformat": 4,
 "nbformat_minor": 5
}

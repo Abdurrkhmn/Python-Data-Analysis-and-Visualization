{
 "cells": [
  {
   "cell_type": "code",
   "execution_count": 1,
   "id": "fdcda0c5",
   "metadata": {},
   "outputs": [
    {
     "name": "stdout",
     "output_type": "stream",
     "text": [
      "Average of non-missing values: 20.833333333333332\n",
      "0     5.000000\n",
      "1    10.000000\n",
      "2    20.833333\n",
      "3    15.000000\n",
      "4    20.000000\n",
      "5    20.833333\n",
      "6    25.000000\n",
      "7    50.000000\n",
      "8    20.833333\n",
      "dtype: float64\n"
     ]
    }
   ],
   "source": [
    "#Filling missing data \n",
    "import numpy as np\n",
    "import pandas as pd\n",
    "pd_series = pd.Series([5, 10, np.nan, 15, 20, np.nan, 25, 50, np.nan])\n",
    "print(\"Average of non-missing values: {0}\".format(pd_series.mean()))\n",
    "pd_series = pd_series.fillna(pd_series.mean())\n",
    "print(pd_series)"
   ]
  },
  {
   "cell_type": "code",
   "execution_count": 2,
   "id": "58dc1dbd",
   "metadata": {},
   "outputs": [
    {
     "name": "stdout",
     "output_type": "stream",
     "text": [
      "0     5.0\n",
      "1    10.0\n",
      "3    15.0\n",
      "4    20.0\n",
      "6    25.0\n",
      "7    50.0\n",
      "dtype: float64\n"
     ]
    }
   ],
   "source": [
    "#Tracking and dropping missing data\n",
    "import numpy as np\n",
    "import pandas as pd\n",
    "\n",
    "# Create a series with missing data\n",
    "pd_series = pd.Series([5, 10, np.nan, 15, 20, np.nan, 25, 50, np.nan])\n",
    "# Drop rows with missing data\n",
    "pd_series = pd_series.dropna()\n",
    "print(pd_series)"
   ]
  },
  {
   "cell_type": "code",
   "execution_count": 3,
   "id": "b8edfd93",
   "metadata": {},
   "outputs": [
    {
     "name": "stdout",
     "output_type": "stream",
     "text": [
      "0    False\n",
      "1    False\n",
      "2     True\n",
      "3    False\n",
      "4    False\n",
      "5     True\n",
      "6    False\n",
      "7    False\n",
      "8     True\n",
      "dtype: bool\n"
     ]
    }
   ],
   "source": [
    "import numpy as np\n",
    "import pandas as pd\n",
    "\n",
    "# Create a series with missing values\n",
    "pd_series = pd.Series([5, 10, np.nan, 15, 20, np.nan, 25, 50, np.nan])\n",
    "# Show which rows are missing\n",
    "print(pd_series.isnull())"
   ]
  },
  {
   "cell_type": "code",
   "execution_count": null,
   "id": "bbe7224f",
   "metadata": {},
   "outputs": [],
   "source": []
  }
 ],
 "metadata": {
  "kernelspec": {
   "display_name": "Python 3 (ipykernel)",
   "language": "python",
   "name": "python3"
  },
  "language_info": {
   "codemirror_mode": {
    "name": "ipython",
    "version": 3
   },
   "file_extension": ".py",
   "mimetype": "text/x-python",
   "name": "python",
   "nbconvert_exporter": "python",
   "pygments_lexer": "ipython3",
   "version": "3.9.12"
  }
 },
 "nbformat": 4,
 "nbformat_minor": 5
}
